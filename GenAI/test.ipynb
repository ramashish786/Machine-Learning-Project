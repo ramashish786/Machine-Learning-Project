{
 "cells": [
  {
   "cell_type": "code",
   "execution_count": 1,
   "id": "5dbe41fe",
   "metadata": {},
   "outputs": [
    {
     "name": "stdout",
     "output_type": "stream",
     "text": [
      "Default (columns) orientation:\n",
      " {\"col1\":{\"0\":1,\"1\":2,\"2\":3},\"col2\":{\"0\":\"A\",\"1\":\"B\",\"2\":\"C\"}}\n",
      "\n",
      "Records orientation:\n",
      " [{\"col1\":1,\"col2\":\"A\"},{\"col1\":2,\"col2\":\"B\"},{\"col1\":3,\"col2\":\"C\"}]\n",
      "\n",
      "Split orientation:\n",
      " {\"columns\":[\"col1\",\"col2\"],\"index\":[0,1,2],\"data\":[[1,\"A\"],[2,\"B\"],[3,\"C\"]]}\n",
      "\n",
      "DataFrame saved to output.json\n"
     ]
    }
   ],
   "source": [
    "import pandas as pd\n",
    "\n",
    "# Create a sample DataFrame\n",
    "data = {'col1': [1, 2, 3], 'col2': ['A', 'B', 'C']}\n",
    "df = pd.DataFrame(data)\n",
    "\n",
    "# Convert DataFrame to JSON string with default 'columns' orientation\n",
    "json_output_default = df.to_json()\n",
    "print(\"Default (columns) orientation:\\n\", json_output_default)\n",
    "\n",
    "# Convert DataFrame to JSON string with 'records' orientation\n",
    "json_output_records = df.to_json(orient='records')\n",
    "print(\"\\nRecords orientation:\\n\", json_output_records)\n",
    "\n",
    "# Convert DataFrame to JSON string with 'split' orientation\n",
    "json_output_split = df.to_json(orient='split')\n",
    "print(\"\\nSplit orientation:\\n\", json_output_split)\n",
    "\n",
    "# Save DataFrame to a JSON file\n",
    "df.to_json('output.json')\n",
    "print(\"\\nDataFrame saved to output.json\")"
   ]
  },
  {
   "cell_type": "code",
   "execution_count": null,
   "id": "1ef2d82e",
   "metadata": {},
   "outputs": [],
   "source": []
  }
 ],
 "metadata": {
  "kernelspec": {
   "display_name": "machine_learning",
   "language": "python",
   "name": "python3"
  },
  "language_info": {
   "codemirror_mode": {
    "name": "ipython",
    "version": 3
   },
   "file_extension": ".py",
   "mimetype": "text/x-python",
   "name": "python",
   "nbconvert_exporter": "python",
   "pygments_lexer": "ipython3",
   "version": "3.9.23"
  }
 },
 "nbformat": 4,
 "nbformat_minor": 5
}
